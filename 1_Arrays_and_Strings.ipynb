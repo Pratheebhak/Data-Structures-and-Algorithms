{
  "nbformat": 4,
  "nbformat_minor": 0,
  "metadata": {
    "colab": {
      "name": "CTCI: Arrays and Strings.ipynb",
      "provenance": [],
      "toc_visible": true
    },
    "kernelspec": {
      "name": "python3",
      "display_name": "Python 3"
    }
  },
  "cells": [
    {
      "cell_type": "markdown",
      "metadata": {
        "id": "qIHGXNunspMM"
      },
      "source": [
        "## 1.1 Is Unique\r\n",
        "\r\n",
        "Implement an algorithm to determine if a string has all unique characters. What if you cannot use addition data structures?\r\n",
        "\r\n",
        "**Example:** \\\\\r\n",
        "Input: s = 'hello' \\\\\r\n",
        "Output: False \\\\\r\n",
        "\r\n",
        "**Brute Force Approach**: \r\n",
        "* For every character, check every other character in the string, make sure they are different.\r\n",
        "* Iterate through every character in the string using two for loops.\r\n",
        "* Time: O($n^2$)\r\n",
        "* Space: O(n)\r\n",
        "\r\n",
        "**Optimized Approach: HashMap**\r\n",
        "* Use a hash map to store the frequency of each character \r\n",
        "* The condition is False if the count of any character is greater than 1\r\n",
        "* Time: O(n)\r\n",
        "* Space: O(n)\r\n",
        "\r\n",
        "**Follow Up Question:**\r\n",
        "If we can't use additional data structures,\r\n",
        "* Sort the input string O(n log n) time\r\n",
        "* Check if neighboring characters are the same\r\n",
        "\r\n"
      ]
    },
    {
      "cell_type": "code",
      "metadata": {
        "id": "NNuS7Sbisko0"
      },
      "source": [
        "import collections\r\n",
        "def isUnique(s):\r\n",
        "  s = s.lower()\r\n",
        "  count = collections.Counter(s)\r\n",
        "  for char, freq in count.items():\r\n",
        "    if freq > 1:\r\n",
        "      return False\r\n",
        "  return True"
      ],
      "execution_count": 1,
      "outputs": []
    },
    {
      "cell_type": "code",
      "metadata": {
        "colab": {
          "base_uri": "https://localhost:8080/"
        },
        "id": "2y0W5g_wwbd8",
        "outputId": "65ed8017-82e7-49c3-8b4a-ca1aada4e3bf"
      },
      "source": [
        "isUnique('GraPess')"
      ],
      "execution_count": 2,
      "outputs": [
        {
          "output_type": "execute_result",
          "data": {
            "text/plain": [
              "False"
            ]
          },
          "metadata": {
            "tags": []
          },
          "execution_count": 2
        }
      ]
    },
    {
      "cell_type": "markdown",
      "metadata": {
        "id": "RxgHMxgOxYNF"
      },
      "source": [
        "## 1.2 Check Permutation\r\n",
        "\r\n",
        "Given two strings, write a method to decide if one is a permutation of the other.\r\n",
        "\r\n",
        "**Example:** \\\\\r\n",
        "Input: s1 = 'aba', s2 = 'aab' \\\\\r\n",
        "Output: True \\\\\r\n",
        "\r\n",
        "**Brute Force Approach:**\r\n",
        "* Sort the characters in both the strings \r\n",
        "* Check if the strings are equal\r\n",
        "* Time: O(n log n)\r\n",
        "* Space: O(n)\r\n",
        "\r\n",
        "**Optimized Approach: HashMap**\r\n",
        "* Create a dictionary to track the count of characters in string 1\r\n",
        "* Iterate through string2 and check if the character is in the count dictionary:\r\n",
        "  * If yes, decrement count value\r\n",
        "  * If no, return False\r\n",
        "* If the all the values in count dictionary is zero, return True, else return False\r\n",
        "\r\n"
      ]
    },
    {
      "cell_type": "code",
      "metadata": {
        "id": "C15Jj71NwhXE"
      },
      "source": [
        "def checkPermutation(s1, s2):\r\n",
        "  s1 = s1.lower()\r\n",
        "  s2 = s2.lower()\r\n",
        "  count = collections.Counter(s1)\r\n",
        "  for char in s2:\r\n",
        "    if char in count:\r\n",
        "      count[char] -= 1\r\n",
        "    else:\r\n",
        "      return False\r\n",
        "  for final_count in count.values():\r\n",
        "    if final_count != 0:\r\n",
        "      return False\r\n",
        "  return True"
      ],
      "execution_count": 3,
      "outputs": []
    },
    {
      "cell_type": "code",
      "metadata": {
        "colab": {
          "base_uri": "https://localhost:8080/"
        },
        "id": "0dfZgOHw0gFQ",
        "outputId": "e55be1fc-4549-4b4d-d7ec-1b6912361bc6"
      },
      "source": [
        "checkPermutation('haaap', 'aahap')"
      ],
      "execution_count": 4,
      "outputs": [
        {
          "output_type": "execute_result",
          "data": {
            "text/plain": [
              "True"
            ]
          },
          "metadata": {
            "tags": []
          },
          "execution_count": 4
        }
      ]
    },
    {
      "cell_type": "markdown",
      "metadata": {
        "id": "-R9ZnX5C010W"
      },
      "source": [
        "## 1.3 URLify\r\n",
        "\r\n",
        "Write a method to replace all spaces in a string with '%20'. You may assume that the string has sufficient space at the end to hold the additional characters, and that you are given the 'true' length of the string.\r\n",
        "\r\n",
        "**Example:** \\\\\r\n",
        "Input : 'Mr John Smith    ', 13 \\\\\r\n",
        "Output: 'Mr%20John%20Smith'\r\n",
        "\r\n",
        "**Approach:**\r\n",
        "* Strings in Python are immutable\r\n",
        "* Create a new string with ' ' replaced by '%20' and character replaced by character\r\n",
        "* Consider only the string's lengtg, ignore the trailing white spaces provided to accomodate the string\r\n",
        "* Time: O(n)\r\n",
        "* Space: O(n)"
      ]
    },
    {
      "cell_type": "code",
      "metadata": {
        "id": "JLPifVAG0khu"
      },
      "source": [
        "def URLify(s, str_length):\r\n",
        "  return ''.join('%20' if char == ' ' else char for char in s[:str_length])"
      ],
      "execution_count": 5,
      "outputs": []
    },
    {
      "cell_type": "code",
      "metadata": {
        "colab": {
          "base_uri": "https://localhost:8080/",
          "height": 35
        },
        "id": "I834Ktrh6tI4",
        "outputId": "c1fb4e5b-5aa0-4a58-a311-f38e0f04de29"
      },
      "source": [
        "URLify('Mr John Smith    ', 13)"
      ],
      "execution_count": 6,
      "outputs": [
        {
          "output_type": "execute_result",
          "data": {
            "application/vnd.google.colaboratory.intrinsic+json": {
              "type": "string"
            },
            "text/plain": [
              "'Mr%20John%20Smith'"
            ]
          },
          "metadata": {
            "tags": []
          },
          "execution_count": 6
        }
      ]
    },
    {
      "cell_type": "markdown",
      "metadata": {
        "id": "AA6KQMnW8sLw"
      },
      "source": [
        "## 1.4 Palindrome Permutation\r\n",
        "\r\n",
        "Given a string, write a function to check if it is a permutation of a palindrome. A palindrome is a word or a phrase that is the same forwards and backwards. A permutation is a rearrangement of letters. The palindrome does not need to be limited to just dictionary words. You can ignore casing and non-letter characters.\r\n",
        "\r\n",
        "**Example:** \\\\\r\n",
        "Input : Tact Coa \\\\\r\n",
        "Output: True (Permutations: 'taco cat', 'atco cta')\r\n",
        "\r\n",
        "**Approach:Hash Map** \\\\\r\n",
        "Palindrome Properties:\r\n",
        "* Count the character occurences in a palindrome\r\n",
        "  * Odd Length Strings, 'madam' &#8594; m: 2, a: 2, d: 1\r\n",
        "  * Even Length Strings, 'maam' &#8594; m: 2, a: 2\r\n",
        "  * Every character has a matching pair i.e every character has even number of occurences, for odd length strings, one character has odd number of occurences\r\n",
        "* Store character frequency in a hash map\r\n",
        "* Check if the character occurences are even\r\n",
        "* Only one character can be odd, so if final count value is greater than 1, it is not possible\r\n",
        "* Time: O(n)\r\n",
        "* Space: O(1)"
      ]
    },
    {
      "cell_type": "code",
      "metadata": {
        "id": "YvbyutSs8OU3"
      },
      "source": [
        "def palindromePermutations(s):\r\n",
        "  s = s.replace(' ', '')\r\n",
        "  char_counter = collections.Counter(s)\r\n",
        "  count = 0\r\n",
        "  for char, freq in char_counter.items():\r\n",
        "    count += (freq % 2)\r\n",
        "    if count > 1:\r\n",
        "      return False\r\n",
        "  return True"
      ],
      "execution_count": 7,
      "outputs": []
    },
    {
      "cell_type": "code",
      "metadata": {
        "colab": {
          "base_uri": "https://localhost:8080/"
        },
        "id": "RMymHi_9CW__",
        "outputId": "622f7b30-0ac6-4f0f-ab73-6def2347c784"
      },
      "source": [
        "palindromePermutations('tact coa')"
      ],
      "execution_count": 8,
      "outputs": [
        {
          "output_type": "execute_result",
          "data": {
            "text/plain": [
              "True"
            ]
          },
          "metadata": {
            "tags": []
          },
          "execution_count": 8
        }
      ]
    },
    {
      "cell_type": "markdown",
      "metadata": {
        "id": "FvgZ269ZDioJ"
      },
      "source": [
        "## 1.5 One Away\r\n",
        "\r\n",
        "There are three types of edits that can be performed on strings: insert a character, remove a character, or replace a character. Given two strings, write a function to check if they are one edit(or zero edits) away\r\n",
        "\r\n",
        "**Example:** \\\\\r\n",
        "pale, ple   &#8594; True \\\\\r\n",
        "pale, bake  &#8594; False \\\\\r\n",
        "pales, pale &#8594; True\r\n",
        "\r\n",
        "**Approach:**\r\n",
        "* If lengths of the string differ by more than 1, return False\r\n",
        "* Iterate through both the strings and compare each character using two pointers to traverse through each of the string\r\n",
        "  * Same characters, continue to next character\r\n",
        "  * Different characters, and haven't made an edit\r\n",
        "    * Same Length -> try replacing character\r\n",
        "    * Different Length -> try deleting character from longer string\r\n",
        "  * Different characters, made an edit, then return False\r\n",
        "* Time: O(n)\r\n",
        "* Space: O(1)\r\n",
        "\r\n",
        "\r\n",
        "\r\n"
      ]
    },
    {
      "cell_type": "code",
      "metadata": {
        "id": "aqR_VwLDCbvp"
      },
      "source": [
        "def OneAway(s1, s2):\r\n",
        "  if abs(len(s1)-len(s2)) > 1:\r\n",
        "    return False\r\n",
        "  p1, p2 = 0, 0\r\n",
        "  edit = False\r\n",
        "  while p1 < len(s1) and p2 < len(s2):\r\n",
        "    if s1[p1] == s2[p2]:\r\n",
        "      p1 += 1\r\n",
        "      p2 += 1\r\n",
        "    elif not edit:\r\n",
        "      edit = True\r\n",
        "      # Replacement: assume character is replaced and increment pointers\r\n",
        "      if len(s1) == len(s2):\r\n",
        "        p1 += 1\r\n",
        "        p2 += 1\r\n",
        "      # Deletion: Increment pointer for the longer string assuming char deletion\r\n",
        "      elif len(s1) > len(s2):\r\n",
        "        p1 += 1\r\n",
        "      else:\r\n",
        "        p2 += 1\r\n",
        "    else:\r\n",
        "      return False \r\n",
        "  return True"
      ],
      "execution_count": 9,
      "outputs": []
    },
    {
      "cell_type": "code",
      "metadata": {
        "colab": {
          "base_uri": "https://localhost:8080/"
        },
        "id": "-dDj2GzXJszy",
        "outputId": "c9f77b79-848d-41cc-8ca5-5d97510deff9"
      },
      "source": [
        "OneAway('plaes', 'plase')"
      ],
      "execution_count": 10,
      "outputs": [
        {
          "output_type": "execute_result",
          "data": {
            "text/plain": [
              "False"
            ]
          },
          "metadata": {
            "tags": []
          },
          "execution_count": 10
        }
      ]
    },
    {
      "cell_type": "markdown",
      "metadata": {
        "id": "XHseIp2OKUiA"
      },
      "source": [
        "## 1.6 String Compression\r\n",
        "\r\n",
        "Implement a method to perform basic string compression using the counts of repeated characters. For example, the string aabcccccaaa would become a2b1c5a3. If the \"compressed\" string would not become smaller than the original string, your method should return the original string. You can assume the string has only uppercase and lowercase letters(a-z).\r\n",
        "\r\n",
        "**Approach:**\r\n",
        "* Iterate through the string and count occurences of the char and append it to a list\r\n",
        "* Convert list to a string\r\n",
        "* Time: O(n)\r\n",
        "* Space: O(n)\r\n",
        "\r\n"
      ]
    },
    {
      "cell_type": "code",
      "metadata": {
        "id": "Na7IEvYjJyo-"
      },
      "source": [
        "def stringCompression(s):\r\n",
        "  compressed_string = []\r\n",
        "  prev_char = \"\"\r\n",
        "  char_count = 0\r\n",
        "  for char in s:\r\n",
        "    if char == prev_char:\r\n",
        "      char_count += 1\r\n",
        "    else:\r\n",
        "      if prev_char != \"\":\r\n",
        "        compressed_string.append(prev_char+str(char_count))\r\n",
        "      prev_char = char \r\n",
        "      char_count = 1 \r\n",
        "\r\n",
        "  compressed_string.append(prev_char+str(char_count))\r\n",
        "  result = ''.join(compressed_string)\r\n",
        "  \r\n",
        "  if len(result) < len(s):\r\n",
        "    return result\r\n",
        "  else:\r\n",
        "    return s"
      ],
      "execution_count": 11,
      "outputs": []
    },
    {
      "cell_type": "code",
      "metadata": {
        "colab": {
          "base_uri": "https://localhost:8080/",
          "height": 35
        },
        "id": "9GwgqfxxMup4",
        "outputId": "97e0ac04-529c-4dab-a6d5-eab69965ca5b"
      },
      "source": [
        "stringCompression('aaabcccccvvcc')"
      ],
      "execution_count": 12,
      "outputs": [
        {
          "output_type": "execute_result",
          "data": {
            "application/vnd.google.colaboratory.intrinsic+json": {
              "type": "string"
            },
            "text/plain": [
              "'a3b1c5v2c2'"
            ]
          },
          "metadata": {
            "tags": []
          },
          "execution_count": 12
        }
      ]
    },
    {
      "cell_type": "markdown",
      "metadata": {
        "id": "pzi7zxC7PIf1"
      },
      "source": [
        "## 1.7 Rotate Matrix\r\n",
        "\r\n",
        "Given an image represented by an NxN matrix, where each pixel in the image is represented by an integer, write a method to rotate the image by 90 degrees. Can you do this in place?\r\n",
        "\r\n",
        "**Approach:**\r\n",
        "* Transpose the matrix\r\n",
        "* Reverse every row in the matrix\r\n",
        "* Time: O(NxN)\r\n",
        "* Space: O(1)"
      ]
    },
    {
      "cell_type": "code",
      "metadata": {
        "id": "oCqXvqQxMxoG"
      },
      "source": [
        "def rotateMatrix(matrix):\r\n",
        "  # Matrix Transpose: Change column and row indices\r\n",
        "  for i in range(len(matrix)):\r\n",
        "    for j in range(i, len(matrix)):\r\n",
        "      matrix[i][j], matrix[j][i] = matrix[j][i], matrix[i][j]\r\n",
        "\r\n",
        "  # Reverse every row\r\n",
        "  for row in range(len(matrix)):\r\n",
        "    matrix[row].reverse()\r\n",
        "  return matrix"
      ],
      "execution_count": 13,
      "outputs": []
    },
    {
      "cell_type": "code",
      "metadata": {
        "colab": {
          "base_uri": "https://localhost:8080/"
        },
        "id": "yJjgucQuS0v5",
        "outputId": "eaa1795b-7c1d-461f-de73-cec58d3183fb"
      },
      "source": [
        "rotateMatrix([\r\n",
        "  [ 5, 1, 9,11],\r\n",
        "  [ 2, 4, 8,10],\r\n",
        "  [13, 3, 6, 7],\r\n",
        "  [15,14,12,16]\r\n",
        "])"
      ],
      "execution_count": 14,
      "outputs": [
        {
          "output_type": "execute_result",
          "data": {
            "text/plain": [
              "[[15, 13, 2, 5], [14, 3, 4, 1], [12, 6, 8, 9], [16, 7, 10, 11]]"
            ]
          },
          "metadata": {
            "tags": []
          },
          "execution_count": 14
        }
      ]
    },
    {
      "cell_type": "markdown",
      "metadata": {
        "id": "zLu-54koTh1E"
      },
      "source": [
        "## 1.8 Zero Matrix\r\n",
        "\r\n",
        "Write an algorithm such that if an element in a MxN matrix is 0, its entire row and column are set to 0\r\n",
        "\r\n",
        "**Approach:**\r\n",
        "* Iterate through the matrix and mark the row and column of every cell with a zero in it.\r\n",
        "* Iterate over the matrix again and if either the row or column has been marked, mark the cell as zero\r\n",
        "* Time: O(mxn)\r\n",
        "* Space: O(m+n)"
      ]
    },
    {
      "cell_type": "code",
      "metadata": {
        "id": "Y17wocYWS9Jw"
      },
      "source": [
        "def zeroMatrix(matrix):\r\n",
        "  row_marked, col_marked = set(), set()\r\n",
        "\r\n",
        "  for row in range(len(matrix)):\r\n",
        "    for col in range(len(matrix[0])):\r\n",
        "      if matrix[row][col] == 0:\r\n",
        "        row_marked.add(row)\r\n",
        "        col_marked.add(col)\r\n",
        "\r\n",
        "  for row in range(len(matrix)):\r\n",
        "    for col in range(len(matrix[0])):\r\n",
        "      if row in row_marked or col in col_marked:\r\n",
        "        matrix[row][col] = 0\r\n",
        "  return matrix"
      ],
      "execution_count": 15,
      "outputs": []
    },
    {
      "cell_type": "code",
      "metadata": {
        "colab": {
          "base_uri": "https://localhost:8080/"
        },
        "id": "-XOIaeOBTu6v",
        "outputId": "bbe7c34d-c680-4c5e-8c61-1156728ca3b0"
      },
      "source": [
        "zeroMatrix([\r\n",
        "  [ 5, 1, 9,11],\r\n",
        "  [ 2, 4, 8,10],\r\n",
        "  [13, 0, 6, 7],\r\n",
        "  [15,14,12,16]\r\n",
        "])"
      ],
      "execution_count": 16,
      "outputs": [
        {
          "output_type": "execute_result",
          "data": {
            "text/plain": [
              "[[5, 0, 9, 11], [2, 0, 8, 10], [0, 0, 0, 0], [15, 0, 12, 16]]"
            ]
          },
          "metadata": {
            "tags": []
          },
          "execution_count": 16
        }
      ]
    },
    {
      "cell_type": "markdown",
      "metadata": {
        "id": "rmiq8NryWF1J"
      },
      "source": [
        "## 1.9 String Rotation\r\n",
        "\r\n",
        "Assume you have a method isSubstring which checks if one word is a substring of another. Given two strings, s1 and s2, write code to check if s2 is a rotation of s1 using only one call to isSubstring"
      ]
    },
    {
      "cell_type": "code",
      "metadata": {
        "id": "u0QzzUyyV9x4"
      },
      "source": [
        "def stringRotation(s1, s2):\r\n",
        "  return isSubstring(s1, s2+s2)"
      ],
      "execution_count": null,
      "outputs": []
    }
  ]
}