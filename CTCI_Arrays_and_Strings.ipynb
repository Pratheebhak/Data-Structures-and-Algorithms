{
  "nbformat": 4,
  "nbformat_minor": 0,
  "metadata": {
    "colab": {
      "name": "CTCI: Arrays and Strings.ipynb",
      "provenance": [],
      "toc_visible": true,
      "authorship_tag": "ABX9TyOZ8zSQkAnzW8uQ7TiVI/wn",
      "include_colab_link": true
    },
    "kernelspec": {
      "name": "python3",
      "display_name": "Python 3"
    }
  },
  "cells": [
    {
      "cell_type": "markdown",
      "metadata": {
        "id": "view-in-github",
        "colab_type": "text"
      },
      "source": [
        "<a href=\"https://colab.research.google.com/github/Pratheebhak/Data-Structures-and-Algorithms/blob/main/CTCI_Arrays_and_Strings.ipynb\" target=\"_parent\"><img src=\"https://colab.research.google.com/assets/colab-badge.svg\" alt=\"Open In Colab\"/></a>"
      ]
    },
    {
      "cell_type": "markdown",
      "metadata": {
        "id": "qIHGXNunspMM"
      },
      "source": [
        "### 1.1 Is Unique\r\n",
        "\r\n",
        "Implement an algorithm to determine if a string has all unique characters. What if you cannot use addition data structures?\r\n",
        "\r\n",
        "**Example:** \\\\\r\n",
        "Input: s = 'hello' \\\\\r\n",
        "Output: False \\\\\r\n",
        "\r\n",
        "**Brute Force Approach**: \r\n",
        "* For every character, check every other character in the string, make sure they are different.\r\n",
        "* Iterate through every character in the string using two for loops.\r\n",
        "* Time: O($n^2$)\r\n",
        "* Space: O(n)\r\n",
        "\r\n",
        "**Optimized Approach: HashMap**\r\n",
        "* Use a hash map to store the frequency of each character \r\n",
        "* The condition is False if the count of any character is greater than 1\r\n",
        "* Time: O(n)\r\n",
        "* Space: O(n)\r\n",
        "\r\n",
        "**Follow Up Question:**\r\n",
        "If we can't use additional data structures,\r\n",
        "* Sort the input string O(n log n) time\r\n",
        "* Check if neighboring characters are the same\r\n",
        "\r\n"
      ]
    },
    {
      "cell_type": "code",
      "metadata": {
        "id": "NNuS7Sbisko0"
      },
      "source": [
        "import collections\r\n",
        "def isUnique(s):\r\n",
        "  s = s.lower()\r\n",
        "  count = collections.Counter(s)\r\n",
        "  for char, freq in count.items():\r\n",
        "    if freq > 1:\r\n",
        "      return False\r\n",
        "  return True"
      ],
      "execution_count": 15,
      "outputs": []
    },
    {
      "cell_type": "code",
      "metadata": {
        "colab": {
          "base_uri": "https://localhost:8080/"
        },
        "id": "2y0W5g_wwbd8",
        "outputId": "b86098ed-2b8e-4848-9fc7-a60bd8abd4a7"
      },
      "source": [
        "isUnique('GraPess')"
      ],
      "execution_count": 18,
      "outputs": [
        {
          "output_type": "execute_result",
          "data": {
            "text/plain": [
              "False"
            ]
          },
          "metadata": {
            "tags": []
          },
          "execution_count": 18
        }
      ]
    },
    {
      "cell_type": "markdown",
      "metadata": {
        "id": "RxgHMxgOxYNF"
      },
      "source": [
        "## 1.2 Check Permutation\r\n",
        "\r\n",
        "Given two strings, write a method to decide if one is a permutation of the other.\r\n",
        "\r\n",
        "**Example:** \\\\\r\n",
        "Input: s1 = 'aba', s2 = 'aab' \\\\\r\n",
        "Output: True \\\\\r\n",
        "\r\n",
        "**Brute Force Approach:**\r\n",
        "* Sort the characters in both the strings \r\n",
        "* Check if the strings are equal\r\n",
        "* Time: O(n log n)\r\n",
        "* Space: O(n)\r\n",
        "\r\n",
        "**Optimized Approach: HashMap**\r\n",
        "* Create a dictionary to track the count of characters in string 1\r\n",
        "* Iterate through string2 and check if the character is in the count dictionary:\r\n",
        "  * If yes, decrement count value\r\n",
        "  * If no, return False\r\n",
        "* If the all the values in count dictionary is zero, return True, else return False\r\n",
        "\r\n"
      ]
    },
    {
      "cell_type": "code",
      "metadata": {
        "id": "C15Jj71NwhXE"
      },
      "source": [
        "def checkPermutation(s1, s2):\r\n",
        "  s1 = s1.lower()\r\n",
        "  s2 = s2.lower()\r\n",
        "  count = collections.Counter(s1)\r\n",
        "  for char in s2:\r\n",
        "    if char in count:\r\n",
        "      count[char] -= 1\r\n",
        "    else:\r\n",
        "      return False\r\n",
        "  for final_count in count.values():\r\n",
        "    if final_count != 0:\r\n",
        "      return False\r\n",
        "  return True"
      ],
      "execution_count": 24,
      "outputs": []
    },
    {
      "cell_type": "code",
      "metadata": {
        "colab": {
          "base_uri": "https://localhost:8080/"
        },
        "id": "0dfZgOHw0gFQ",
        "outputId": "34682d3b-79a2-4b2d-bd35-a8676dca6049"
      },
      "source": [
        "checkPermutation('haaap', 'aahap')"
      ],
      "execution_count": 25,
      "outputs": [
        {
          "output_type": "execute_result",
          "data": {
            "text/plain": [
              "True"
            ]
          },
          "metadata": {
            "tags": []
          },
          "execution_count": 25
        }
      ]
    },
    {
      "cell_type": "markdown",
      "metadata": {
        "id": "-R9ZnX5C010W"
      },
      "source": [
        "## 1.3 URLify\r\n",
        "\r\n",
        "Write a method to replace all spaces in a string with '%20'. You may assume that the string has sufficient space at the end to hold the additional characters, and that you are given the 'true' length of the string.\r\n",
        "\r\n",
        "**Example:** \\\\\r\n",
        "Input : 'Mr John Smith    ', 13 \\\\\r\n",
        "Output: 'Mr%20John%20Smith'\r\n",
        "\r\n",
        "**Approach:**\r\n",
        "* Strings in Python are immutable\r\n",
        "* Create a new string with ' ' replaced by '%20' and character replaced by character\r\n",
        "* Consider only the string's lengtg, ignore the trailing white spaces provided to accomodate the string\r\n",
        "* Time: O(n)\r\n",
        "* Space: O(n)"
      ]
    },
    {
      "cell_type": "code",
      "metadata": {
        "id": "JLPifVAG0khu"
      },
      "source": [
        "def URLify(s, str_length):\r\n",
        "  return ''.join('%20' if char == ' ' else char for char in s[:str_length])"
      ],
      "execution_count": 36,
      "outputs": []
    },
    {
      "cell_type": "code",
      "metadata": {
        "colab": {
          "base_uri": "https://localhost:8080/",
          "height": 35
        },
        "id": "I834Ktrh6tI4",
        "outputId": "428bdbdb-8727-44a7-ce8e-6f272d347849"
      },
      "source": [
        "URLify('Mr John Smith    ', 13)"
      ],
      "execution_count": 37,
      "outputs": [
        {
          "output_type": "execute_result",
          "data": {
            "application/vnd.google.colaboratory.intrinsic+json": {
              "type": "string"
            },
            "text/plain": [
              "'Mr%20John%20Smith'"
            ]
          },
          "metadata": {
            "tags": []
          },
          "execution_count": 37
        }
      ]
    },
    {
      "cell_type": "markdown",
      "metadata": {
        "id": "AA6KQMnW8sLw"
      },
      "source": [
        "## 1.4 Palindrome Permutation\r\n",
        "\r\n",
        "Given a string, write a function to check if it is a permutation of a palindrome. A palindrome is a word or a phrase that is the same forwards and backwards. A permutation is a rearrangement of letters. The palindrome does not need to be limited to just dictionary words. You can ignore casing and non-letter characters.\r\n",
        "\r\n",
        "**Example:** \\\\\r\n",
        "Input : Tact Coa \\\\\r\n",
        "Output: True (Permutations: 'taco cat', 'atco cta')\r\n",
        "\r\n",
        "**Approach:Hash Map** \\\\\r\n",
        "Palindrome Properties:\r\n",
        "* Count the character occurences in a palindrome\r\n",
        "  * Odd Length Strings, 'madam' &#8594; m: 2, a: 2, d: 1\r\n",
        "  * Even Length Strings, 'maam' &#8594; m: 2, a: 2\r\n",
        "  * Every character has a matching pair i.e every character has even number of occurences, for odd length strings, one character has odd number of occurences\r\n",
        "* Store character frequency in a hash map\r\n",
        "* Check if the character occurences are even\r\n",
        "* Only one character can be odd, so if final count value is greater than 1, it is not possible\r\n",
        "* Time: O(n)\r\n",
        "* Space: O(1)"
      ]
    },
    {
      "cell_type": "code",
      "metadata": {
        "id": "YvbyutSs8OU3"
      },
      "source": [
        "def palindromePermutations(s):\r\n",
        "  s = s.replace(' ', '')\r\n",
        "  char_counter = collections.Counter(s)\r\n",
        "  count = 0\r\n",
        "  for char, freq in char_counter.items():\r\n",
        "    count += (freq % 2)\r\n",
        "    if count > 1:\r\n",
        "      return False\r\n",
        "  return True"
      ],
      "execution_count": 53,
      "outputs": []
    },
    {
      "cell_type": "code",
      "metadata": {
        "colab": {
          "base_uri": "https://localhost:8080/"
        },
        "id": "RMymHi_9CW__",
        "outputId": "ade73a21-3c49-4bb8-8b6c-477102b49112"
      },
      "source": [
        "palindromePermutations('tact coa')"
      ],
      "execution_count": 54,
      "outputs": [
        {
          "output_type": "stream",
          "text": [
            "Counter({'t': 2, 'a': 2, 'c': 2, 'o': 1})\n"
          ],
          "name": "stdout"
        },
        {
          "output_type": "execute_result",
          "data": {
            "text/plain": [
              "True"
            ]
          },
          "metadata": {
            "tags": []
          },
          "execution_count": 54
        }
      ]
    },
    {
      "cell_type": "markdown",
      "metadata": {
        "id": "FvgZ269ZDioJ"
      },
      "source": [
        "## 1.5 One Away\r\n",
        "\r\n",
        "There are three types of edits that can be performed on strings: insert a character, remove a character, or replace a character. Given two strings, write a function to check if they are one edit(or zero edits) away\r\n",
        "\r\n",
        "**Example:** \\\\\r\n",
        "pale, ple   &#8594; True \\\\\r\n",
        "pale, bake  &#8594; False \\\\\r\n",
        "pales, pale &#8594; True\r\n",
        "\r\n",
        "**Approach:**\r\n",
        "* If lengths of the string differ by more than 1, return False\r\n",
        "* Iterate through both the strings and compare each character using two pointers to traverse through each of the string\r\n",
        "  * Same characters, continue to next character\r\n",
        "\r\n",
        "\r\n"
      ]
    },
    {
      "cell_type": "code",
      "metadata": {
        "id": "aqR_VwLDCbvp"
      },
      "source": [
        "def OneAway(s1, s2):\r\n",
        "  if abs(len(s1)-len(s2)) > 1:\r\n",
        "    return False\r\n",
        "  p1, p2 = 0, 0\r\n",
        "  \r\n",
        "  \r\n"
      ],
      "execution_count": null,
      "outputs": []
    }
  ]
}